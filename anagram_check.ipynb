{
  "nbformat": 4,
  "nbformat_minor": 0,
  "metadata": {
    "colab": {
      "name": "anagram_check.ipynb",
      "provenance": [],
      "collapsed_sections": [],
      "authorship_tag": "ABX9TyPwJF1SiBvNm2o/5oqOZHtn",
      "include_colab_link": true
    },
    "kernelspec": {
      "name": "python3",
      "display_name": "Python 3"
    },
    "language_info": {
      "name": "python"
    }
  },
  "cells": [
    {
      "cell_type": "markdown",
      "metadata": {
        "id": "view-in-github",
        "colab_type": "text"
      },
      "source": [
        "<a href=\"https://colab.research.google.com/github/bachng13/Android-Application/blob/master/anagram_check.ipynb\" target=\"_parent\"><img src=\"https://colab.research.google.com/assets/colab-badge.svg\" alt=\"Open In Colab\"/></a>"
      ]
    },
    {
      "cell_type": "code",
      "metadata": {
        "colab": {
          "base_uri": "https://localhost:8080/"
        },
        "id": "0TkOQQq-Qk7Q",
        "outputId": "30206641-cd49-4d3a-f8de-44fdd1528cd3"
      },
      "source": [
        "import time\n",
        "\n",
        "start_time = time.time()\n",
        "\n",
        "string1 = \"dacb\"\n",
        "string2 = \"abcc\"\n",
        "\n",
        "counter = len(string1)\n",
        "counter2 = len(string2)\n",
        "  \n",
        "for i in range(len(string1)):  \n",
        "  char1 = string1[i]\n",
        "  if char1 in string2:\n",
        "    counter -= 1\n",
        "    if counter == 0:\n",
        "      break\n",
        "\n",
        "for j in range(len(string2)):\n",
        "  char2 = string2[j]\n",
        "  if char2 in string1:\n",
        "    counter2 -= 1\n",
        "    # print (counter,counter2)\n",
        "    if counter2 == 0: \n",
        "      break\n",
        "\n",
        "print (counter,counter2)\n",
        "#implement checking 2 counters\n",
        "if counter == 0 & counter2 == 0:\n",
        "  print(\"2 words are anagram\")\n",
        "else:\n",
        "  print(\"2 words are not anagram\")\n",
        "\n",
        "print(\"Time for program to complete --- %s seconds ---\" % (time.time() - start_time))\n"
      ],
      "execution_count": 51,
      "outputs": [
        {
          "output_type": "stream",
          "text": [
            "1 0\n",
            "2 words are not anagram\n",
            "Time for program to complete --- 0.0026967525482177734 seconds ---\n"
          ],
          "name": "stdout"
        }
      ]
    }
  ]
}